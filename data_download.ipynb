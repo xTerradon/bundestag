{
 "cells": [
  {
   "cell_type": "code",
   "execution_count": 5,
   "metadata": {},
   "outputs": [],
   "source": [
    "from bs4 import BeautifulSoup\n",
    "from selenium import webdriver\n",
    "from selenium.webdriver.common.by import By\n",
    "from selenium.webdriver.support.ui import WebDriverWait\n",
    "from selenium.webdriver.chrome.service import Service\n",
    "from selenium_stealth import stealth"
   ]
  },
  {
   "cell_type": "code",
   "execution_count": 18,
   "metadata": {},
   "outputs": [
    {
     "data": {
      "text/plain": [
       "WindowsPath('c:/Users/V61XNRQ/Desktop/PERS/bundestag')"
      ]
     },
     "execution_count": 18,
     "metadata": {},
     "output_type": "execute_result"
    }
   ],
   "source": [
    "from pathlib import Path\n",
    "import os"
   ]
  },
  {
   "cell_type": "code",
   "execution_count": 20,
   "metadata": {},
   "outputs": [
    {
     "data": {
      "text/plain": [
       "WindowsPath('c:/Users/V61XNRQ/Desktop/PERS/bundestag/downloads')"
      ]
     },
     "execution_count": 20,
     "metadata": {},
     "output_type": "execute_result"
    }
   ],
   "source": [
    "CHROMEDRIVER_PATH = Path(\"executables/chromedriver.exe\")\n",
    "DOWNLOAD_FOLDER_NAME = \"downloads\"\n",
    "BASE_URL = \"https://www.bundestag.de/services/opendata\""
   ]
  },
  {
   "cell_type": "code",
   "execution_count": 9,
   "metadata": {},
   "outputs": [],
   "source": [
    "if not Path(DOWNLOAD_FOLDER_NAME).exists():\n",
    "    Path(DOWNLOAD_FOLDER_NAME).mkdir()"
   ]
  },
  {
   "cell_type": "code",
   "execution_count": 22,
   "metadata": {},
   "outputs": [],
   "source": [
    "class Webdriver_Handler:\n",
    "    def __init__(self):\n",
    "        options = webdriver.ChromeOptions()\n",
    "        options.add_argument('disable-infobars')\n",
    "        options.add_argument(\"--no-sandbox\")\n",
    "        options.add_argument(\"--disable-dev-shm-usage\")\n",
    "        options.add_experimental_option('excludeSwitches', ['enable-logging'])\n",
    "        prefs = {\n",
    "            \"profile.default_content_settings.popups\": 0,    \n",
    "            \"download.default_directory\": str(Path(os.getcwd(), DOWNLOAD_FOLDER_NAME)), ### Set the path accordingly\n",
    "            \"download.prompt_for_download\": False, ## change the downpath accordingly\n",
    "            \"download.directory_upgrade\": True\n",
    "        }\n",
    "        options.add_experimental_option(\"prefs\", prefs)\n",
    "\n",
    "        self.timeout = 3       \n",
    "\n",
    "        self.wd = webdriver.Chrome(service=Service(CHROMEDRIVER_PATH), options=options)\n",
    "        \n",
    "        self.wd.implicitly_wait(self.timeout)\n",
    "\n",
    "        stealth(\n",
    "            self.wd,\n",
    "            languages=[\"en-US\", \"en\"],\n",
    "            vendor=\"Google Inc.\",\n",
    "            platform=\"Win32\",\n",
    "            webgl_vendor=\"Intel Inc.\",\n",
    "            renderer=\"Intel Iris OpenGL Engine\",\n",
    "            fix_hairline=True,\n",
    "        )\n",
    "    \n",
    "    def get_plenarprotokolle(self):\n",
    "        self.wd.get(BASE_URL)\n",
    "\n",
    "        download_divs = self.wd.find_elements(By.XPATH, \"//div[@class='container-fluid bt-module-content-wrap']\")\n",
    "\n",
    "        download_divs_titles = [div.find_element(By.XPATH, \".//h2\").text for div in download_divs]\n",
    "        print(f\"Possible download divs: {[h2 for h2 in download_divs_titles]}\")\n",
    "        slide_arrows = [div.find_element(By.XPATH, \".//button[@class='slick-next slick-arrow']\") for div in download_divs]\n",
    "        print(\"slideable:\", [slide_arrow.get_attribute(\"aria-disabled\") == \"false\" for slide_arrow in slide_arrows])\n",
    "        xml_links = [div.find_elements(By.XPATH, \"\"\".//a[contains(@href,\"xml\") and contains(@title,\"XML\")]\"\"\") for div in download_divs]\n",
    "        print(\"number_xml\", [len(xml_link) for xml_link in xml_links])\n",
    "\n",
    "        for download_div in download_divs:\n",
    "            div_header = download_div.find_element(By.XPATH, \".//h2\").text\n",
    "            print(\"Downloading\", div_header)\n",
    "            all_download_links = []\n",
    "            \n",
    "            link_elements = download_div.find_elements(By.XPATH, \"\"\".//a[contains(@href,\"xml\") and contains(@title,\"XML\")]\"\"\")\n",
    "            xml_links = [link.get_attribute(\"href\") for link in link_elements]\n",
    "            all_download_links += xml_links\n",
    "\n",
    "            if download_div.find_element(By.XPATH, \".//button[@class='slick-next slick-arrow']\") is not None:\n",
    "                print(\"Element is slideable\")\n",
    "                while download_div.find_element(By.XPATH, \".//button[@class='slick-next slick-arrow']\").get_attribute(\"aria-disabled\") == \"false\":\n",
    "                    print(\"Next slide\")\n",
    "                    download_div.find_element(By.XPATH, \".//button[@class='slick-next slick-arrow']\").click()\n",
    "                    time.sleep(1)\n",
    "                    link_elements = download_div.find_elements(By.XPATH, \"\"\".//a[contains(@href,\"xml\") and contains(@title,\"XML\")]\"\"\")\n",
    "                    xml_links = [link.get_attribute(\"href\") for link in link_elements]\n",
    "                    all_download_links += xml_links\n",
    "        \n",
    "            print(f\"All download links for {div_header}: {all_download_links}\")\n"
   ]
  }
 ],
 "metadata": {
  "kernelspec": {
   "display_name": "Python 3",
   "language": "python",
   "name": "python3"
  },
  "language_info": {
   "codemirror_mode": {
    "name": "ipython",
    "version": 3
   },
   "file_extension": ".py",
   "mimetype": "text/x-python",
   "name": "python",
   "nbconvert_exporter": "python",
   "pygments_lexer": "ipython3",
   "version": "3.11.4"
  },
  "orig_nbformat": 4
 },
 "nbformat": 4,
 "nbformat_minor": 2
}
