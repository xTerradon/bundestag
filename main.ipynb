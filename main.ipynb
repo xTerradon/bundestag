{
 "cells": [
  {
   "cell_type": "code",
   "execution_count": 95,
   "metadata": {},
   "outputs": [],
   "source": [
    "import time\n",
    "from numpy import random"
   ]
  },
  {
   "cell_type": "code",
   "execution_count": 96,
   "metadata": {},
   "outputs": [],
   "source": [
    "%run data_download.ipynb\n",
    "web_handler = Webdriver_Handler()\n"
   ]
  },
  {
   "cell_type": "code",
   "execution_count": 97,
   "metadata": {},
   "outputs": [
    {
     "name": "stdout",
     "output_type": "stream",
     "text": [
      "Possible download divs: ['Plenarprotokolle der 20. Wahlperiode', 'Plenarprotokolle der 19. Wahlperiode', 'Drucksachen', 'Plenarprotokolle der 1. - 19. Wahlperiode', 'Drucksachen der 1. - 19. Wahlperiode']\n",
      "slideable: [True, True, True, True, True]\n",
      "number_xml [10, 10, 10, 0, 0]\n",
      "Downloading Plenarprotokolle der 20. Wahlperiode\n",
      "Element is slideable\n",
      "Next slide\n",
      "Next slide\n",
      "Next slide\n",
      "Next slide\n",
      "Next slide\n",
      "Next slide\n",
      "Next slide\n",
      "Next slide\n",
      "Next slide\n",
      "Next slide\n",
      "Next slide\n"
     ]
    },
    {
     "ename": "NoSuchElementException",
     "evalue": "Message: no such element: Unable to locate element: {\"method\":\"xpath\",\"selector\":\".//button[@class='slick-next slick-arrow']\"}\n  (Session info: chrome=114.0.5735.199); For documentation on this error, please visit: https://www.selenium.dev/documentation/webdriver/troubleshooting/errors#no-such-element-exception\nStacktrace:\nBacktrace:\n\tGetHandleVerifier [0x00E8A813+48355]\n\t(No symbol) [0x00E1C4B1]\n\t(No symbol) [0x00D25358]\n\t(No symbol) [0x00D509A5]\n\t(No symbol) [0x00D50B3B]\n\t(No symbol) [0x00D49AE1]\n\t(No symbol) [0x00D6A784]\n\t(No symbol) [0x00D49A36]\n\t(No symbol) [0x00D6AA94]\n\t(No symbol) [0x00D7C922]\n\t(No symbol) [0x00D6A536]\n\t(No symbol) [0x00D482DC]\n\t(No symbol) [0x00D493DD]\n\tGetHandleVerifier [0x010EAABD+2539405]\n\tGetHandleVerifier [0x0112A78F+2800735]\n\tGetHandleVerifier [0x0112456C+2775612]\n\tGetHandleVerifier [0x00F151E0+616112]\n\t(No symbol) [0x00E25F8C]\n\t(No symbol) [0x00E22328]\n\t(No symbol) [0x00E2240B]\n\t(No symbol) [0x00E14FF7]\n\tBaseThreadInitThunk [0x75ABFA29+25]\n\tRtlGetAppContainerNamedObjectPath [0x77A17A4E+286]\n\tRtlGetAppContainerNamedObjectPath [0x77A17A1E+238]\n",
     "output_type": "error",
     "traceback": [
      "\u001b[1;31m---------------------------------------------------------------------------\u001b[0m",
      "\u001b[1;31mNoSuchElementException\u001b[0m                    Traceback (most recent call last)",
      "Cell \u001b[1;32mIn[97], line 1\u001b[0m\n\u001b[1;32m----> 1\u001b[0m web_handler\u001b[39m.\u001b[39;49mget_plenarprotokolle()\n",
      "File \u001b[1;32m~\\AppData\\Local\\Temp\\ipykernel_12468\\3624328779.py:55\u001b[0m, in \u001b[0;36mWebdriver_Handler.get_plenarprotokolle\u001b[1;34m(self)\u001b[0m\n\u001b[0;32m     53\u001b[0m \u001b[39mif\u001b[39;00m download_div\u001b[39m.\u001b[39mfind_element(By\u001b[39m.\u001b[39mXPATH, \u001b[39m\"\u001b[39m\u001b[39m.//button[@class=\u001b[39m\u001b[39m'\u001b[39m\u001b[39mslick-next slick-arrow\u001b[39m\u001b[39m'\u001b[39m\u001b[39m]\u001b[39m\u001b[39m\"\u001b[39m) \u001b[39mis\u001b[39;00m \u001b[39mnot\u001b[39;00m \u001b[39mNone\u001b[39;00m:\n\u001b[0;32m     54\u001b[0m     \u001b[39mprint\u001b[39m(\u001b[39m\"\u001b[39m\u001b[39mElement is slideable\u001b[39m\u001b[39m\"\u001b[39m)\n\u001b[1;32m---> 55\u001b[0m     \u001b[39mwhile\u001b[39;00m download_div\u001b[39m.\u001b[39;49mfind_element(By\u001b[39m.\u001b[39;49mXPATH, \u001b[39m\"\u001b[39;49m\u001b[39m.//button[@class=\u001b[39;49m\u001b[39m'\u001b[39;49m\u001b[39mslick-next slick-arrow\u001b[39;49m\u001b[39m'\u001b[39;49m\u001b[39m]\u001b[39;49m\u001b[39m\"\u001b[39;49m)\u001b[39m.\u001b[39mget_attribute(\u001b[39m\"\u001b[39m\u001b[39maria-disabled\u001b[39m\u001b[39m\"\u001b[39m) \u001b[39m==\u001b[39m \u001b[39m\"\u001b[39m\u001b[39mfalse\u001b[39m\u001b[39m\"\u001b[39m:\n\u001b[0;32m     56\u001b[0m         \u001b[39mprint\u001b[39m(\u001b[39m\"\u001b[39m\u001b[39mNext slide\u001b[39m\u001b[39m\"\u001b[39m)\n\u001b[0;32m     57\u001b[0m         download_div\u001b[39m.\u001b[39mfind_element(By\u001b[39m.\u001b[39mXPATH, \u001b[39m\"\u001b[39m\u001b[39m.//button[@class=\u001b[39m\u001b[39m'\u001b[39m\u001b[39mslick-next slick-arrow\u001b[39m\u001b[39m'\u001b[39m\u001b[39m]\u001b[39m\u001b[39m\"\u001b[39m)\u001b[39m.\u001b[39mclick()\n",
      "File \u001b[1;32mc:\\Users\\V61XNRQ\\AppData\\Local\\anaconda3\\envs\\full311\\Lib\\site-packages\\selenium\\webdriver\\remote\\webelement.py:417\u001b[0m, in \u001b[0;36mWebElement.find_element\u001b[1;34m(self, by, value)\u001b[0m\n\u001b[0;32m    414\u001b[0m     by \u001b[39m=\u001b[39m By\u001b[39m.\u001b[39mCSS_SELECTOR\n\u001b[0;32m    415\u001b[0m     value \u001b[39m=\u001b[39m \u001b[39mf\u001b[39m\u001b[39m'\u001b[39m\u001b[39m[name=\u001b[39m\u001b[39m\"\u001b[39m\u001b[39m{\u001b[39;00mvalue\u001b[39m}\u001b[39;00m\u001b[39m\"\u001b[39m\u001b[39m]\u001b[39m\u001b[39m'\u001b[39m\n\u001b[1;32m--> 417\u001b[0m \u001b[39mreturn\u001b[39;00m \u001b[39mself\u001b[39;49m\u001b[39m.\u001b[39;49m_execute(Command\u001b[39m.\u001b[39;49mFIND_CHILD_ELEMENT, {\u001b[39m\"\u001b[39;49m\u001b[39musing\u001b[39;49m\u001b[39m\"\u001b[39;49m: by, \u001b[39m\"\u001b[39;49m\u001b[39mvalue\u001b[39;49m\u001b[39m\"\u001b[39;49m: value})[\u001b[39m\"\u001b[39m\u001b[39mvalue\u001b[39m\u001b[39m\"\u001b[39m]\n",
      "File \u001b[1;32mc:\\Users\\V61XNRQ\\AppData\\Local\\anaconda3\\envs\\full311\\Lib\\site-packages\\selenium\\webdriver\\remote\\webelement.py:395\u001b[0m, in \u001b[0;36mWebElement._execute\u001b[1;34m(self, command, params)\u001b[0m\n\u001b[0;32m    393\u001b[0m     params \u001b[39m=\u001b[39m {}\n\u001b[0;32m    394\u001b[0m params[\u001b[39m\"\u001b[39m\u001b[39mid\u001b[39m\u001b[39m\"\u001b[39m] \u001b[39m=\u001b[39m \u001b[39mself\u001b[39m\u001b[39m.\u001b[39m_id\n\u001b[1;32m--> 395\u001b[0m \u001b[39mreturn\u001b[39;00m \u001b[39mself\u001b[39;49m\u001b[39m.\u001b[39;49m_parent\u001b[39m.\u001b[39;49mexecute(command, params)\n",
      "File \u001b[1;32mc:\\Users\\V61XNRQ\\AppData\\Local\\anaconda3\\envs\\full311\\Lib\\site-packages\\selenium\\webdriver\\remote\\webdriver.py:346\u001b[0m, in \u001b[0;36mWebDriver.execute\u001b[1;34m(self, driver_command, params)\u001b[0m\n\u001b[0;32m    344\u001b[0m response \u001b[39m=\u001b[39m \u001b[39mself\u001b[39m\u001b[39m.\u001b[39mcommand_executor\u001b[39m.\u001b[39mexecute(driver_command, params)\n\u001b[0;32m    345\u001b[0m \u001b[39mif\u001b[39;00m response:\n\u001b[1;32m--> 346\u001b[0m     \u001b[39mself\u001b[39;49m\u001b[39m.\u001b[39;49merror_handler\u001b[39m.\u001b[39;49mcheck_response(response)\n\u001b[0;32m    347\u001b[0m     response[\u001b[39m\"\u001b[39m\u001b[39mvalue\u001b[39m\u001b[39m\"\u001b[39m] \u001b[39m=\u001b[39m \u001b[39mself\u001b[39m\u001b[39m.\u001b[39m_unwrap_value(response\u001b[39m.\u001b[39mget(\u001b[39m\"\u001b[39m\u001b[39mvalue\u001b[39m\u001b[39m\"\u001b[39m, \u001b[39mNone\u001b[39;00m))\n\u001b[0;32m    348\u001b[0m     \u001b[39mreturn\u001b[39;00m response\n",
      "File \u001b[1;32mc:\\Users\\V61XNRQ\\AppData\\Local\\anaconda3\\envs\\full311\\Lib\\site-packages\\selenium\\webdriver\\remote\\errorhandler.py:245\u001b[0m, in \u001b[0;36mErrorHandler.check_response\u001b[1;34m(self, response)\u001b[0m\n\u001b[0;32m    243\u001b[0m         alert_text \u001b[39m=\u001b[39m value[\u001b[39m\"\u001b[39m\u001b[39malert\u001b[39m\u001b[39m\"\u001b[39m]\u001b[39m.\u001b[39mget(\u001b[39m\"\u001b[39m\u001b[39mtext\u001b[39m\u001b[39m\"\u001b[39m)\n\u001b[0;32m    244\u001b[0m     \u001b[39mraise\u001b[39;00m exception_class(message, screen, stacktrace, alert_text)  \u001b[39m# type: ignore[call-arg]  # mypy is not smart enough here\u001b[39;00m\n\u001b[1;32m--> 245\u001b[0m \u001b[39mraise\u001b[39;00m exception_class(message, screen, stacktrace)\n",
      "\u001b[1;31mNoSuchElementException\u001b[0m: Message: no such element: Unable to locate element: {\"method\":\"xpath\",\"selector\":\".//button[@class='slick-next slick-arrow']\"}\n  (Session info: chrome=114.0.5735.199); For documentation on this error, please visit: https://www.selenium.dev/documentation/webdriver/troubleshooting/errors#no-such-element-exception\nStacktrace:\nBacktrace:\n\tGetHandleVerifier [0x00E8A813+48355]\n\t(No symbol) [0x00E1C4B1]\n\t(No symbol) [0x00D25358]\n\t(No symbol) [0x00D509A5]\n\t(No symbol) [0x00D50B3B]\n\t(No symbol) [0x00D49AE1]\n\t(No symbol) [0x00D6A784]\n\t(No symbol) [0x00D49A36]\n\t(No symbol) [0x00D6AA94]\n\t(No symbol) [0x00D7C922]\n\t(No symbol) [0x00D6A536]\n\t(No symbol) [0x00D482DC]\n\t(No symbol) [0x00D493DD]\n\tGetHandleVerifier [0x010EAABD+2539405]\n\tGetHandleVerifier [0x0112A78F+2800735]\n\tGetHandleVerifier [0x0112456C+2775612]\n\tGetHandleVerifier [0x00F151E0+616112]\n\t(No symbol) [0x00E25F8C]\n\t(No symbol) [0x00E22328]\n\t(No symbol) [0x00E2240B]\n\t(No symbol) [0x00E14FF7]\n\tBaseThreadInitThunk [0x75ABFA29+25]\n\tRtlGetAppContainerNamedObjectPath [0x77A17A4E+286]\n\tRtlGetAppContainerNamedObjectPath [0x77A17A1E+238]\n"
     ]
    }
   ],
   "source": [
    "web_handler.get_plenarprotokolle()"
   ]
  },
  {
   "cell_type": "code",
   "execution_count": null,
   "metadata": {},
   "outputs": [
    {
     "name": "stdout",
     "output_type": "stream",
     "text": [
      "['find_element', 'find_elements']\n"
     ]
    }
   ],
   "source": [
    "print([d for d in dir(web_handler.wd) if \"find\" in d])"
   ]
  },
  {
   "cell_type": "code",
   "execution_count": null,
   "metadata": {},
   "outputs": [],
   "source": [
    "web_handler.wd.find_element(By.XPATH, \"//button[@class='slick-next slick-arrow']\").click()"
   ]
  }
 ],
 "metadata": {
  "kernelspec": {
   "display_name": "Python 3",
   "language": "python",
   "name": "python3"
  },
  "language_info": {
   "codemirror_mode": {
    "name": "ipython",
    "version": 3
   },
   "file_extension": ".py",
   "mimetype": "text/x-python",
   "name": "python",
   "nbconvert_exporter": "python",
   "pygments_lexer": "ipython3",
   "version": "3.11.4"
  },
  "orig_nbformat": 4
 },
 "nbformat": 4,
 "nbformat_minor": 2
}
