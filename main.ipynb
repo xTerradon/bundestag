{
 "cells": [
  {
   "cell_type": "code",
   "execution_count": 10,
   "metadata": {},
   "outputs": [],
   "source": [
    "import time\n",
    "from numpy import random"
   ]
  },
  {
   "cell_type": "code",
   "execution_count": 11,
   "metadata": {},
   "outputs": [],
   "source": [
    "%run data_download.ipynb\n",
    "web_handler = Webdriver_Handler()\n"
   ]
  },
  {
   "cell_type": "code",
   "execution_count": 12,
   "metadata": {},
   "outputs": [
    {
     "name": "stdout",
     "output_type": "stream",
     "text": [
      "Possible download divs: ['Plenarprotokolle der 20. Wahlperiode', 'Plenarprotokolle der 19. Wahlperiode', 'Drucksachen', 'Plenarprotokolle der 1. - 19. Wahlperiode', 'Drucksachen der 1. - 19. Wahlperiode']\n",
      "slideable: [True, True, True, True, True]\n",
      "number_xml [10, 10, 10, 0, 0]\n",
      "Fetching links for Plenarprotokolle der 20. Wahlperiode\n",
      "All download links for Plenarprotokolle der 20. Wahlperiode: ['https://www.bundestag.de/resource/blob/945302/8d7a66a79eb4651587033e86aa9109b1/20099-data.xml', 'https://www.bundestag.de/resource/blob/915646/d5694bce0430b8fcdecff9f8fc54e13e/20060-data.xml', 'https://www.bundestag.de/resource/blob/950334/dc658f1ad52059dc764180d2de1ff620/20106-data.xml', 'https://www.bundestag.de/resource/blob/908984/3f64b129a5fbf8a5ac80e02435cafd77/20050-data.xml', 'https://www.bundestag.de/resource/blob/920574/6764d6d766e37b5c6eab58f8e60aeb21/20066-data.xml', 'https://www.bundestag.de/resource/blob/936332/68ed814ab6ad75198d08f0c2aa17e970/20088-data.xml', 'https://www.bundestag.de/resource/blob/897634/315cfc5e3243eafee3f7f5125ba0d093/20040-data.xml', 'https://www.bundestag.de/resource/blob/885462/560c980be301d6511501f0cc7859bac6/20022-data.xml', 'https://www.bundestag.de/resource/blob/877504/457594d2a376f9efb1bfca1f936ba9d5/20012-data.xml', 'https://www.bundestag.de/resource/blob/920344/5d71813a380176c271e123f3c8187ca7/20065-data.xml', 'https://www.bundestag.de/resource/blob/927076/70948c339ad0125090a931eb151c77ec/20076-data.xml', 'https://www.bundestag.de/resource/blob/886416/db86cf1a7233a5b3fae2c1ed3e2f7445/20024-data.xml', 'https://www.bundestag.de/resource/blob/946022/5e2a0d83889fcf2f0a8e2be5a73def99/20101-data.xml', 'https://www.bundestag.de/resource/blob/913074/a5fc2d586c98777a4550bda3f3740d77/20057-data.xml', 'https://www.bundestag.de/resource/blob/902948/c06bbf98ee0ba61c1ec338254eeccabf/20046-data.xml', 'https://www.bundestag.de/resource/blob/913444/aeecd11842a5e9e64c0aac4fbd2dd4b9/20058-data.xml', 'https://www.bundestag.de/resource/blob/881384/8eb7662a7f497add1a9c755476415b77/20016-data.xml', 'https://www.bundestag.de/resource/blob/922428/1ce92cd90abac5effa0e82ec6a300757/20069-data.xml', 'https://www.bundestag.de/resource/blob/873178/229a4e937151617f3ac73c337594559c/20008-data.xml', 'https://www.bundestag.de/resource/blob/954874/3138fbe43e3842ba253ceadbc8fdab74/20111-data.xml', 'https://www.bundestag.de/resource/blob/941534/d099e2750dd2e49844bb0bd4ae8de83b/20095-data.xml', 'https://www.bundestag.de/resource/blob/877126/ea893720fb7a0c1e3fbad81bf93f8e75/20011-data.xml', 'https://www.bundestag.de/resource/blob/881806/6b8e6220659315227eb3b1dbdbdf8e76/20018-data.xml', 'https://www.bundestag.de/resource/blob/886606/a8b5974c3cd61a9f56f8a972e8e7ad6f/20025-data.xml', 'https://www.bundestag.de/resource/blob/929866/ba2ebcc7c889c8f33f72480f07e46b33/20078-data.xml', 'https://www.bundestag.de/resource/blob/918014/9a393b253304324d543f632e5ef454ee/20064-data.xml', 'https://www.bundestag.de/resource/blob/947714/f521949a0b959cbfb5c19fcf544ce5b7/20102-data.xml', 'https://www.bundestag.de/resource/blob/936334/de534bd18a42447a1add17a7972eb917/20089-data.xml', 'https://www.bundestag.de/resource/blob/934328/7eb78f5c9a1aede0f46b656f86a95052/20086-data.xml', 'https://www.bundestag.de/resource/blob/957006/37932e32edee2cf9deb1bee8c92a22bf/20114-data.xml', 'https://www.bundestag.de/resource/blob/900378/4304dccc6749727547d24a6fb7eb5e04/20043-data.xml', 'https://www.bundestag.de/resource/blob/889400/831daf31987e4782b9c6d194a6776fa2/20028-data.xml', 'https://www.bundestag.de/resource/blob/871012/12b36dddb4a43f7800e2d3a4dbe96750/20005-data.xml', 'https://www.bundestag.de/resource/blob/871140/3bfa30dd149d7a82281b3ffd73e1f021/20006-data.xml', 'https://www.bundestag.de/resource/blob/920974/8a00d88beaab467a5e3fdb4db65dcfb1/20067-data.xml', 'https://www.bundestag.de/resource/blob/889394/920b7f7c35be77767daf7204ef6dc928/20027-data.xml', 'https://www.bundestag.de/resource/blob/943516/cd77f0e0cac28bbf5fbb46307fb6bd66/20098-data.xml', 'https://www.bundestag.de/resource/blob/894350/9987c8c08ef1e027a3f7c4656b3f9a34/20033-data.xml', 'https://www.bundestag.de/resource/blob/954016/cb550882ba449976336d2e6b0a590ba8/20110-data.xml', 'https://www.bundestag.de/resource/blob/945536/6e01d454929a0c31a6b0a22429a1d278/20100-data.xml', 'https://www.bundestag.de/resource/blob/876678/a898de55e0897657e790e27c2e7ea5ac/20010-data.xml', 'https://www.bundestag.de/resource/blob/931992/4abbe177bac1afdb4e97eec25fed41d5/20083-data.xml', 'https://www.bundestag.de/resource/blob/895476/9cb1043fb9957f339d1aed508c822c4f/20035-data.xml', 'https://www.bundestag.de/resource/blob/955438/c94d02b6e6a60f7f08151d4691f812a3/20113-data.xml', 'https://www.bundestag.de/resource/blob/940852/06ee757adc7edee192fdf1178b80ea48/20093-data.xml', 'https://www.bundestag.de/resource/blob/924366/f0c77e98d38ac2ae4146b7793c2e44a8/20072-data.xml', 'https://www.bundestag.de/resource/blob/926860/83d0f4d9ae64744c65e308bce6ed7fce/20075-data.xml', 'https://www.bundestag.de/resource/blob/912816/f3c479972a01be28a0c328b1237f38a2/20056-data.xml', 'https://www.bundestag.de/resource/blob/938898/816496237a453a42eeb6633743c8da31/20092-data.xml', 'https://www.bundestag.de/resource/blob/881518/ff4f6567e6bb232b483190ae0dd9cd54/20017-data.xml', 'https://www.bundestag.de/resource/blob/957228/f778da80862503dd89da883e9857cbea/20116-data.xml', 'https://www.bundestag.de/resource/blob/938426/74ef0db1bb8a6537ef323ca08704f53b/20091-data.xml', 'https://www.bundestag.de/resource/blob/943512/e6f6cad6d7dfc740fbb82dd02626544a/20096-data.xml', 'https://www.bundestag.de/resource/blob/884900/90d7ed39e77924cd38f6bc4e822db6f3/20021-data.xml', 'https://www.bundestag.de/resource/blob/915286/b3575a3167ddebf1cf988059be7614f6/20059-data.xml', 'https://www.bundestag.de/resource/blob/930622/359f560688d23c3dd98d40df1b256617/20080-data.xml', 'https://www.bundestag.de/resource/blob/869486/bbae732310ed76b57435f1c982035382/20003-data.xml', 'https://www.bundestag.de/resource/blob/923194/28fd3c550433975a5eeb536ca5469a7e/20070-data.xml', 'https://www.bundestag.de/resource/blob/909282/222b209e5690e5d2b576215f1c8eaebc/20051-data.xml', 'https://www.bundestag.de/resource/blob/871514/f12c216035c6568335332420f249b48b/20007-data.xml', 'https://www.bundestag.de/resource/blob/917522/4287d9f6b90f07e0609f38b3393c2fa3/20063-data.xml', 'https://www.bundestag.de/resource/blob/903222/3ea6ceba3b2f5b3f66a784bc32f347cd/20047-data.xml', 'https://www.bundestag.de/resource/blob/933874/6f3e51417abe0fea4c519e49eea29820/20085-data.xml', 'https://www.bundestag.de/resource/blob/896180/903d3e4980d90a7ec12a0602dde3fbf1/20036-data.xml', 'https://www.bundestag.de/resource/blob/953454/07eae93210e1620a1492caeabc40ff4d/20109-data.xml', 'https://www.bundestag.de/resource/blob/911476/a04847a68f97bfe8db82bae1c363e610/20054-data.xml', 'https://www.bundestag.de/resource/blob/891934/9d3e30a6b6da8930e4b24a2c71323d89/20031-data.xml', 'https://www.bundestag.de/resource/blob/894900/7d3db38a2df36f568b62bcd178f78ea3/20034-data.xml', 'https://www.bundestag.de/resource/blob/924518/7e66cc1965235c8b3938d4db2f10b7fb/20073-data.xml', 'https://www.bundestag.de/resource/blob/898114/e7ace72bfd61d683b1bd36c50ec0813e/20042-data.xml', 'https://www.bundestag.de/resource/blob/873322/93d46f5579a7b6fee22280ab6b7178ef/20009-data.xml', 'https://www.bundestag.de/resource/blob/957010/7044444b996f4ddf95fda3a6dd1a85f4/20115-data.xml', 'https://www.bundestag.de/resource/blob/901386/2a11260627e1e60eb570abdcaf1d4c60/20045-data.xml', 'https://www.bundestag.de/resource/blob/948536/7e93ae4b7a1979e32cd252bd505086d4/20104-data.xml', 'https://www.bundestag.de/resource/blob/925072/090acd894ca97948f376ed4f83fe21e5/20074-data.xml', 'https://www.bundestag.de/resource/blob/955070/a1a3575020542b9783e1f69a8655429e/20112-data.xml', 'https://www.bundestag.de/resource/blob/896352/935ec162b90c10e4d3b43a607db8be1c/20037-data.xml', 'https://www.bundestag.de/resource/blob/936326/df37b55a60a10c031dfd83d309c922a1/20087-data.xml', 'https://www.bundestag.de/resource/blob/911082/2dc21e37fddc3c083ec0886eac6e3767/20053-data.xml', 'https://www.bundestag.de/resource/blob/885922/ea6510fa33ceba81a3f39fa67157244a/20023-data.xml', 'https://www.bundestag.de/resource/blob/892386/b2790c9c10b580721dd2e98967697808/20032-data.xml', 'https://www.bundestag.de/resource/blob/923692/a6f9fcaff96d6939b2ad28153e616750/20071-data.xml', 'https://www.bundestag.de/resource/blob/941114/61ca06c92fdf1e6307d3e66e000853c0/20094-data.xml', 'https://www.bundestag.de/resource/blob/884842/d4f8f013accfe01ece070441da787aff/20020-data.xml', 'https://www.bundestag.de/resource/blob/933506/e84261848f0ada164b03d85d2b0712b7/20084-data.xml', 'https://www.bundestag.de/resource/blob/931550/ec90fafd5583e7061c752eb19d2cb36a/20082-data.xml', 'https://www.bundestag.de/resource/blob/897878/2abe959292f855f8f2f2bd03be99bc91/20041-data.xml', 'https://www.bundestag.de/resource/blob/882434/63345d000dff4dac33355f3669e7eec2/20019-data.xml', 'https://www.bundestag.de/resource/blob/897506/671551853b84eb704e6fe74d4957cac4/20039-data.xml', 'https://www.bundestag.de/resource/blob/866350/ec2231feaa8519c8db90a4f657ea2c67/20001-data.xml', 'https://www.bundestag.de/resource/blob/916362/d0b5c71799323a106e0bd10f72b8045e/20061-data.xml', 'https://www.bundestag.de/resource/blob/887038/062d6bc0522f81a988c24eb8f8ee4aee/20026-data.xml', 'https://www.bundestag.de/resource/blob/943514/34b55a941ece4d07226dd518eb65f91e/20097-data.xml', 'https://www.bundestag.de/resource/blob/879414/58c863c898e45b9c80dca92717605eab/20013-data.xml', 'https://www.bundestag.de/resource/blob/900576/478e78c0c8b449c88187d049f1d1bf1b/20044-data.xml', 'https://www.bundestag.de/resource/blob/896498/0b56835fe05e37108f730d5124a38129/20038-data.xml', 'https://www.bundestag.de/resource/blob/912024/00d00b598946b3cec69ecd728a67b5db/20055-data.xml', 'https://www.bundestag.de/resource/blob/889754/df000e3d6807cc88d8e1f81c11905fb4/20029-data.xml', 'https://www.bundestag.de/resource/blob/909520/ccbb1b470836b419e0e0ab726b679a99/20052-data.xml', 'https://www.bundestag.de/resource/blob/868600/951210bae357f59adac7978b93390212/20002-data.xml', 'https://www.bundestag.de/resource/blob/879944/86559dfdad1e7304d92fae71974ad18d/20015-data.xml', 'https://www.bundestag.de/resource/blob/908848/b19bebca7930333f6321435fe54d2ba0/20049-data.xml', 'https://www.bundestag.de/resource/blob/903616/6b209fed0d9a78b4bd7119810250b1b3/20048-data.xml', 'https://www.bundestag.de/resource/blob/931290/8c373b885d090975942c4908de48c2b2/20081-data.xml', 'https://www.bundestag.de/resource/blob/950336/1dbae6bd24ee34cba4cef0876f397038/20107-data.xml', 'https://www.bundestag.de/resource/blob/938274/df976df3ed9ecd1e1167260e1e529a73/20090-data.xml', 'https://www.bundestag.de/resource/blob/953176/18800b6cbcd570e9ef38458246805897/20108-data.xml', 'https://www.bundestag.de/resource/blob/870596/e6b6a166ee651652e37c752a787ff113/20004-data.xml', 'https://www.bundestag.de/resource/blob/917290/487226e6b3f325a115488159cf74bd60/20062-data.xml', 'https://www.bundestag.de/resource/blob/950324/370eac78d5b1cd909e6058f61fea415a/20105-data.xml', 'https://www.bundestag.de/resource/blob/948004/d209c2dd978d317444108c13a51fbfc2/20103-data.xml', 'https://www.bundestag.de/resource/blob/927538/1521a72a3b22a16010b002f7da6fa6fa/20077-data.xml', 'https://www.bundestag.de/resource/blob/879580/ef1c3a49e2f88d94df37dbe0d4c57fd8/20014-data.xml', 'https://www.bundestag.de/resource/blob/922320/e45cccadd038bdc19042fb2e256c585d/20068-data.xml', 'https://www.bundestag.de/resource/blob/891754/02b1d83091d0dff3ac136893dd9b0396/20030-data.xml', 'https://www.bundestag.de/resource/blob/930124/db620cb965034058b9eb995bf87bbfc6/20079-data.xml']\n",
      "File 20099-data.xml already exists\n",
      "File 20060-data.xml already exists\n",
      "File 20106-data.xml already exists\n",
      "File 20050-data.xml already exists\n",
      "File 20066-data.xml already exists\n",
      "File 20088-data.xml already exists\n",
      "File 20040-data.xml already exists\n",
      "File 20022-data.xml already exists\n",
      "File 20012-data.xml already exists\n",
      "File 20065-data.xml already exists\n",
      "File 20076-data.xml already exists\n",
      "File 20024-data.xml already exists\n",
      "File 20101-data.xml already exists\n",
      "File 20057-data.xml already exists\n",
      "File 20046-data.xml already exists\n",
      "File 20058-data.xml already exists\n",
      "File 20016-data.xml already exists\n",
      "File 20069-data.xml already exists\n",
      "File 20008-data.xml already exists\n",
      "File 20111-data.xml already exists\n",
      "File 20095-data.xml already exists\n",
      "File 20011-data.xml already exists\n",
      "File 20018-data.xml already exists\n",
      "File 20025-data.xml already exists\n",
      "File 20078-data.xml already exists\n",
      "File 20064-data.xml already exists\n",
      "File 20102-data.xml already exists\n",
      "File 20089-data.xml already exists\n",
      "File 20086-data.xml already exists\n",
      "File 20114-data.xml already exists\n",
      "File 20043-data.xml already exists\n",
      "File 20028-data.xml already exists\n",
      "Downloading 20005-data.xml\n",
      "Rate-Limit exceeded\n",
      "Rate-Limit exceeded\n",
      "Rate-Limit exceeded\n",
      "Rate-Limit exceeded\n",
      "Rate-Limit exceeded\n",
      "Rate-Limit exceeded\n",
      "Rate-Limit exceeded\n",
      "Rate-Limit exceeded\n",
      "Rate-Limit exceeded\n",
      "Rate-Limit exceeded\n",
      "Rate-Limit exceeded\n",
      "Rate-Limit exceeded\n",
      "Rate-Limit exceeded\n",
      "Rate-Limit exceeded\n",
      "Rate-Limit exceeded\n",
      "Rate-Limit exceeded\n",
      "Rate-Limit exceeded\n",
      "Rate-Limit exceeded\n",
      "Rate-Limit exceeded\n",
      "Rate-Limit exceeded\n",
      "Rate-Limit exceeded\n",
      "Rate-Limit exceeded\n",
      "Rate-Limit exceeded\n",
      "Rate-Limit exceeded\n",
      "Rate-Limit exceeded\n",
      "Rate-Limit exceeded\n",
      "Rate-Limit exceeded\n",
      "Rate-Limit exceeded\n",
      "Rate-Limit exceeded\n",
      "Rate-Limit exceeded\n",
      "Rate-Limit exceeded\n",
      "Rate-Limit exceeded\n",
      "Rate-Limit exceeded\n",
      "Rate-Limit exceeded\n",
      "Rate-Limit exceeded\n"
     ]
    },
    {
     "ename": "KeyboardInterrupt",
     "evalue": "",
     "output_type": "error",
     "traceback": [
      "\u001b[1;31m---------------------------------------------------------------------------\u001b[0m",
      "\u001b[1;31mKeyboardInterrupt\u001b[0m                         Traceback (most recent call last)",
      "Cell \u001b[1;32mIn[12], line 1\u001b[0m\n\u001b[1;32m----> 1\u001b[0m web_handler\u001b[39m.\u001b[39;49mget_plenarprotokolle()\n",
      "File \u001b[1;32m~\\AppData\\Local\\Temp\\ipykernel_21768\\2835884675.py:64\u001b[0m, in \u001b[0;36mWebdriver_Handler.get_plenarprotokolle\u001b[1;34m(self)\u001b[0m\n\u001b[0;32m     61\u001b[0m all_download_links \u001b[39m=\u001b[39m \u001b[39mlist\u001b[39m(\u001b[39mset\u001b[39m(all_download_links))\n\u001b[0;32m     63\u001b[0m \u001b[39mprint\u001b[39m(\u001b[39mf\u001b[39m\u001b[39m\"\u001b[39m\u001b[39mAll download links for \u001b[39m\u001b[39m{\u001b[39;00mdiv_header\u001b[39m}\u001b[39;00m\u001b[39m: \u001b[39m\u001b[39m{\u001b[39;00mall_download_links\u001b[39m}\u001b[39;00m\u001b[39m\"\u001b[39m)\n\u001b[1;32m---> 64\u001b[0m \u001b[39mself\u001b[39;49m\u001b[39m.\u001b[39;49mdownload_all_to_folder(all_download_links, div_header)\n",
      "File \u001b[1;32m~\\AppData\\Local\\Temp\\ipykernel_21768\\2835884675.py:87\u001b[0m, in \u001b[0;36mWebdriver_Handler.download_all_to_folder\u001b[1;34m(self, download_links, folder_name)\u001b[0m\n\u001b[0;32m     85\u001b[0m \u001b[39mwhile\u001b[39;00m \u001b[39m\"\u001b[39m\u001b[39mRate-Limit exceeded\u001b[39m\u001b[39m\"\u001b[39m \u001b[39min\u001b[39;00m \u001b[39mstr\u001b[39m(r\u001b[39m.\u001b[39mcontent):\n\u001b[0;32m     86\u001b[0m     \u001b[39mprint\u001b[39m(\u001b[39m\"\u001b[39m\u001b[39mRate-Limit exceeded\u001b[39m\u001b[39m\"\u001b[39m)\n\u001b[1;32m---> 87\u001b[0m     time\u001b[39m.\u001b[39msleep(\u001b[39m5\u001b[39m)\n\u001b[0;32m     88\u001b[0m     r \u001b[39m=\u001b[39m s\u001b[39m.\u001b[39mget(download_link, allow_redirects\u001b[39m=\u001b[39m\u001b[39mTrue\u001b[39;00m)\n\u001b[0;32m     90\u001b[0m \u001b[39mopen\u001b[39m(Path(DOWNLOAD_FOLDER_NAME, folder_name, file_name), \u001b[39m'\u001b[39m\u001b[39mwb\u001b[39m\u001b[39m'\u001b[39m)\u001b[39m.\u001b[39mwrite(r\u001b[39m.\u001b[39mcontent)\n",
      "\u001b[1;31mKeyboardInterrupt\u001b[0m: "
     ]
    }
   ],
   "source": [
    "web_handler.get_plenarprotokolle()"
   ]
  },
  {
   "cell_type": "code",
   "execution_count": null,
   "metadata": {},
   "outputs": [],
   "source": []
  },
  {
   "cell_type": "code",
   "execution_count": null,
   "metadata": {},
   "outputs": [],
   "source": []
  }
 ],
 "metadata": {
  "kernelspec": {
   "display_name": "Python 3",
   "language": "python",
   "name": "python3"
  },
  "language_info": {
   "codemirror_mode": {
    "name": "ipython",
    "version": 3
   },
   "file_extension": ".py",
   "mimetype": "text/x-python",
   "name": "python",
   "nbconvert_exporter": "python",
   "pygments_lexer": "ipython3",
   "version": "3.11.4"
  },
  "orig_nbformat": 4
 },
 "nbformat": 4,
 "nbformat_minor": 2
}
