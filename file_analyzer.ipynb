{
 "cells": [
  {
   "cell_type": "code",
   "execution_count": null,
   "metadata": {},
   "outputs": [],
   "source": [
    "from bs4 import BeautifulSoup\n",
    "from datetime import datetime"
   ]
  },
  {
   "cell_type": "code",
   "execution_count": null,
   "metadata": {},
   "outputs": [],
   "source": [
    "DOWNLOAD_FOLDER_NAME = \"downloads\""
   ]
  },
  {
   "cell_type": "code",
   "execution_count": null,
   "metadata": {},
   "outputs": [],
   "source": [
    "def get_file_info(file_path):\n",
    "    with open(file_path, 'r') as f:\n",
    "        data = f.read()\n",
    "        soup = BeautifulSoup(data, \"lxml\")\n",
    "\n",
    "        datum = get_datum(soup)\n",
    "        print(f\"Date: {datum}\")\n",
    "\n",
    "        parteien = list(set([str(partei.text).replace(u'\\xa0',u' ') for partei in soup.find_all(\"p\", klasse=\"AL_Partei\")]))\n",
    "        print(f\"Parteien: {len(parteien)}\\n{parteien}\")\n",
    "\n",
    "        wahlen = get_wahlen(soup)\n",
    "        print(f\"Durchgeführte Wahlen: {len(wahlen)}\")\n",
    "\n",
    "        entschuldigte = get_entschuldigte(soup)\n",
    "        print(f\"Entschuldigte Abgeordnete: {len(entschuldigte)}\\n{entschuldigte}\")\n",
    "\n",
    "        mutterschutz_entschuldigte = get_mutterschutz_entschuldigte(soup)\n",
    "        print(f\"davon im Mutterschutz: {len(mutterschutz_entschuldigte)}\\n{mutterschutz_entschuldigte}\")\n",
    "\n",
    "        redner = get_redner(soup)\n",
    "        print(f\"Redner: {len(redner)}\\n{redner}\")\n",
    "\n"
   ]
  },
  {
   "cell_type": "code",
   "execution_count": null,
   "metadata": {},
   "outputs": [],
   "source": [
    "def get_df():\n",
    "    datum_list = []\n",
    "\n",
    "    entschuldigte_list = []\n",
    "    davon_mutterschutz_list = []\n",
    "\n",
    "    wahlen_list = []\n",
    "\n",
    "    for folder in os.listdir(DOWNLOAD_FOLDER_NAME):\n",
    "        for file in os.listdir(Path(DOWNLOAD_FOLDER_NAME, folder)):\n",
    "            if file.endswith(\".xml\"):\n",
    "                print(f\"Auswertung von {file}\")\n",
    "                with open(Path(DOWNLOAD_FOLDER_NAME, folder, file), 'r') as f:\n",
    "                    data = f.read()\n",
    "                    soup = BeautifulSoup(data, \"lxml\")\n",
    "\n",
    "                    datum = datetime.strptime(get_datum(soup), \"%d.%m.%Y\")\n",
    "                    print(f\"Datum: {datum}\")\n",
    "                    datum_list.append(datum)\n",
    "\n",
    "\n",
    "                    entschuldigte = get_entschuldigte(soup)\n",
    "                    print(f\"Entschuldigte Abgeordnete: {len(entschuldigte)}\\n{entschuldigte}\")\n",
    "                    entschuldigte_list.append(len(entschuldigte))\n",
    "\n",
    "                    mutterschutz_entschuldigte = get_mutterschutz_entschuldigte(soup)\n",
    "                    print(f\"davon im Mutterschutz: {len(mutterschutz_entschuldigte)}\\n{mutterschutz_entschuldigte}\")\n",
    "                    davon_mutterschutz_list.append(len(mutterschutz_entschuldigte))\n",
    "\n",
    "                    anzahl_wahlen = get_anzahl_wahlen(soup)\n",
    "                    print(f\"Durchgeführte Wahlen: {anzahl_wahlen}\")\n",
    "                    wahlen_list.append(anzahl_wahlen)\n",
    "\n",
    "    \n",
    "    df = pd.DataFrame(\n",
    "        {\n",
    "            \"entschuldigte\":entschuldigte_list, \n",
    "            \"davon_mutterschutz\":davon_mutterschutz_list,\n",
    "            \"wahlen\":wahlen_list\n",
    "        },\n",
    "        index=pd.to_datetime(datum_list)\n",
    "    )\n",
    "    df.sort_index(inplace=True)\n",
    "    return df"
   ]
  },
  {
   "cell_type": "code",
   "execution_count": null,
   "metadata": {},
   "outputs": [],
   "source": [
    "def get_anzahl_wahlen(soup):\n",
    "    wahlen = soup.select('anlagen-text[anlagen-typ=\"Ergebnis und Namensverzeichnis\"]')\n",
    "    for wahl in wahlen:\n",
    "        if wahl.find(\"p\", klasse=\"T_fett\") is not None:\n",
    "            wahltitel = wahl.find(\"p\", klasse=\"T_fett\").text.replace(u'\\xa0',u' ').replace(\"der Mitglieder des Deutschen Bundestages, die an der \",\"\").replace(\"teilgenommen haben\",\"\")\n",
    "        else:\n",
    "            wahltitel = wahl.find(\"p\", klasse=\"Anlage_3\").text.replace(u'\\xa0',u' ').replace(\"der Mitglieder des Deutschen Bundestages, die an der \",\"\").replace(\"teilgenommen haben\",\"\")\n",
    "        \n",
    "            \n",
    "        \n",
    "        if wahl.table is not None and wahl.table.caption is not None:\n",
    "            abgegebene_stimmen = wahl.table.caption.text.replace(u'\\xa0',u' ').replace(\"Abgegebene Stimmkarten: \",\"\").replace(\" Ergebnis\",\"\")\n",
    "        else:\n",
    "            abgegebene_stimmen = wahl.find(lambda tag:tag.name==\"p\" and \"Abgegebene Stimmkarten\" in tag.text.replace(u'\\xa0',u' ')).text.replace(u'\\xa0',u' ').replace(\"Abgegebene Stimmkarten: \",\"\").replace(\" Ergebnis\",\"\")\n",
    "        \n",
    "        if \" Für die Wahl sind mindestens\" in abgegebene_stimmen:\n",
    "            abgegebene_stimmen = abgegebene_stimmen.split(\" Für die Wahl sind mindestens\")[0]\n",
    "        abgegebene_stimmen = int(abgegebene_stimmen)\n",
    "        print(f\"Wahl: {wahltitel}, Abgegebene Stimmen: {abgegebene_stimmen}\")\n",
    "    return len(wahlen)"
   ]
  },
  {
   "cell_type": "code",
   "execution_count": null,
   "metadata": {},
   "outputs": [],
   "source": [
    "def get_datum(soup):\n",
    "    date = soup.find_all(\"datum\")[0][\"date\"]\n",
    "    return date"
   ]
  },
  {
   "cell_type": "code",
   "execution_count": null,
   "metadata": {},
   "outputs": [],
   "source": [
    "def get_redner(soup):\n",
    "    rednerliste_div = soup.find(\"rednerliste\")\n",
    "    redner = [\n",
    "        get_normale_namen(redner.find(\"titel\").text + \" \" + redner.find(\"vorname\").text + \" \" +  redner.find(\"nachname\").text)\n",
    "        if redner.find(\"titel\") is not None \n",
    "        else get_normale_namen(redner.find(\"vorname\").text + \" \" +  redner.find(\"nachname\").text)\n",
    "        for redner in rednerliste_div.find_all(\"redner\")]\n",
    "    return redner"
   ]
  },
  {
   "cell_type": "code",
   "execution_count": null,
   "metadata": {},
   "outputs": [],
   "source": [
    "def get_entschuldigte(soup):\n",
    "    entschuldigte_div = soup.select_one('anlagen-text[anlagen-typ=\"Entschuldigte Abgeordnete\"]')\n",
    "    if entschuldigte_div is None:\n",
    "        entschuldigte_div = soup.select_one('anlagen-text[anlagen-typ=\"Liste der entschuldigten Abgeordneten\"]')\n",
    "        if entschuldigte_div is None:\n",
    "            print(\"Keine entschuldigten Abgeordneten gefunden\")\n",
    "            return []\n",
    "    if entschuldigte_div.tbody is None:\n",
    "        print(\"Keine entschuldigten Abgeordneten gefunden\")\n",
    "        return []\n",
    "    entschuldigte = [\n",
    "        get_normale_namen(tr.td.text) for tr in entschuldigte_div.tbody.find_all(\"tr\")\n",
    "        if tr.td is not None\n",
    "    ]\n",
    "    return entschuldigte"
   ]
  },
  {
   "cell_type": "code",
   "execution_count": null,
   "metadata": {},
   "outputs": [],
   "source": [
    "def get_mutterschutz_entschuldigte(soup):\n",
    "    entschuldigte_div = soup.select_one('anlagen-text[anlagen-typ=\"Entschuldigte Abgeordnete\"]')\n",
    "    if entschuldigte_div is None:\n",
    "        entschuldigte_div = soup.select_one('anlagen-text[anlagen-typ=\"Liste der entschuldigten Abgeordneten\"]')\n",
    "        if entschuldigte_div is None:\n",
    "            print(\"Keine entschuldigten Abgeordneten gefunden\")\n",
    "            return []\n",
    "    if entschuldigte_div.tbody is None:\n",
    "        print(\"Keine entschuldigten Abgeordneten gefunden\")\n",
    "        return []\n",
    "    mutterschutz_entschuldigte = [\n",
    "        get_normale_namen(tr.td.text) for tr in entschuldigte_div.tbody.find_all(\"tr\") \n",
    "        if tr.td is not None\n",
    "        and (\"*\" in tr.td.text or \"(aufgrund gesetzlichen Mutterschutzes)\" in tr.td.text)\n",
    "    ]\n",
    "    return mutterschutz_entschuldigte"
   ]
  },
  {
   "cell_type": "code",
   "execution_count": null,
   "metadata": {},
   "outputs": [],
   "source": [
    "def get_normale_namen(name):\n",
    "    name = name.replace(\"*\",\"\").replace(\"(aufgrund gesetzlichen Mutterschutzes)\",\"\").replace(u'\\xa0',u' ')\n",
    "    if \",\" in name:\n",
    "        split_name = name.split(\",\")\n",
    "        name = split_name[1] + \" \" + split_name[0]\n",
    "    name = name.replace(\"  \",\" \")\n",
    "    if name[0] == \" \":\n",
    "        name = name[1:]\n",
    "    if name[-1] == \" \":\n",
    "        name = name[:-1]\n",
    "    return name"
   ]
  }
 ],
 "metadata": {
  "language_info": {
   "name": "python"
  },
  "orig_nbformat": 4
 },
 "nbformat": 4,
 "nbformat_minor": 2
}
